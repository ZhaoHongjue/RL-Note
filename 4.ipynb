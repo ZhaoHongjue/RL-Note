{
 "cells": [
  {
   "cell_type": "markdown",
   "source": [
    "# 回合更新价值迭代\n",
    "\n",
    "* **无模型的机器学习算法**在没有环境的数学描述的情况下，**只依靠经验**学习出给定策略的价值函数和最优策略\n",
    "* **根据更新时机**：<u>回合更新算法</u>（只用于回合制任务）和<u>时序差分更新算法</u>\n",
    "  * 回合更新算法：同策略更新算法和异策略更新算法"
   ],
   "metadata": {}
  },
  {
   "cell_type": "markdown",
   "source": [
    "## 同策回合更新\n",
    "\n",
    "### 同策回合更新策略评估\n",
    "\n",
    "【**思路**】用Monte Carlo方法估计状态价值和动作价值\n",
    "\n",
    "* 具体而言，若某个状态（或状态动作对）出现了$c$次，其对应的回报值分别为$g_1,g_2,\\dots,g_c$，那么可以估计其状态价值（或动作价值）为$\\frac{1}{c}\\sum_{i=1}^c g_i$\n",
    "\n",
    "【**无模型策略评估算法**】：<u>评估状态价值函数</u>和<u>评估动作价值函数</u>\n",
    "\n",
    "> 任意策略的价值函数满足Bellman期望方程\n",
    ">\n",
    "> * 借助于动力$p$，可以用状态价值函数表示动作价值函数\n",
    "> * 借助于策略$\\pi$，可以用动作价值函数表示状态价值函数\n",
    "\n",
    "对于无模型策略评估，由于动力$p$的表达式未知，只能用动作价值表示状态价值。——*动作价值函数更重要*\n",
    "\n",
    "> 同一状态可能被多次访问\n",
    "\n",
    "【**每次访问回合更新**】采用回合内全部的回报样本值更新价值函数\n",
    "\n",
    "【**首次访问回合更新**】每个回合只采用第一次访问的回报样本更新价值函数\n",
    "\n",
    "#### 每次访问回合更新\n",
    "\n",
    "1. **更新评估策略的动作价值**：\n",
    "\n",
    "   【输入】环境（无数学描述），策略$\\pi$\n",
    "\n",
    "   【输出】动作价值函数$q(s,a),s \\in S, a \\in A$\n",
    "\n",
    "   1. 初始化：$q(s,a) \\leftarrow$ 任意值，若需计数器则$c(s,a) \\leftarrow 0$\n",
    "   2. 回合更新：对于每个回合执行以下操作：\n",
    "      1. 采样：用策略$\\pi$生成轨迹$S_0,A_0,R_1,S_1,\\dots,S_{T-1},A_{T-1},R_T,S_T$\n",
    "      2. 初始化回报：$G \\leftarrow 0$\n",
    "      3. 逐步更新：对$t \\leftarrow T-1,T-2,\\dots, 0$，执行以下步骤：\n",
    "         1. 更新回报：$G \\leftarrow \\gamma G + R_{t+1}$\n",
    "         2. 更新动作价值：更新$q(S_t,A_t)$以减小$[G-q(S_t,A_t)]^2$（如$c(S_t,A_t) \\leftarrow c(S_t,A_t)+1$，$q(S_t,A_t) \\leftarrow q(S_t,A_t) + \\frac{1}{c(S_t,A_t)}[G-q(S_t,A_t)]$）\n",
    "\n",
    "2. **更新评估策略的状态价值**：\n",
    "\n",
    "   【输入】环境（无数学描述），策略$\\pi$\n",
    "\n",
    "   【输出】动作价值函数$v(s),s \\in S$\n",
    "\n",
    "   1. 初始化：$v(s) \\leftarrow$ 任意值，若需计数器则$c(s) \\leftarrow 0$\n",
    "   2. 回合更新：对于每个回合执行以下操作：\n",
    "      1. 采样：用策略$\\pi$生成轨迹$S_0,A_0,R_1,S_1,\\dots,S_{T-1},A_{T-1},R_T,S_T$\n",
    "      2. 初始化回报：$G \\leftarrow 0$\n",
    "      3. 逐步更新：对$t \\leftarrow T-1,T-2,\\dots, 0$，执行以下步骤：\n",
    "         1. 更新回报：$G \\leftarrow \\gamma G + R_{t+1}$\n",
    "         2. 更新动作价值：更新$q(S_t,A_t)$以减小$[G-v(S_t)]^2$（如$c(S_t) \\leftarrow c(S_t)+1$，$v(S_t) \\leftarrow v(S_t) + \\frac{1}{c(S_t)}[G-v(S_t)]$）\n",
    "\n",
    "#### 首次访问回合更新评估\n",
    "\n",
    "1. **更新评估策略的动作价值**：\n",
    "\n",
    "   【输入】环境（无数学描述），策略$\\pi$\n",
    "\n",
    "   【输出】动作价值函数$q(s,a),s \\in S, a \\in A$\n",
    "\n",
    "   1. 初始化：$q(s,a) \\leftarrow$ 任意值，若需计数器则$c(s,a) \\leftarrow 0$\n",
    "   2. 回合更新：对于每个回合执行以下操作：\n",
    "      1. 采样：用策略$\\pi$生成轨迹$S_0,A_0,R_1,S_1,\\dots,S_{T-1},A_{T-1},R_T,S_T$\n",
    "      2. 初始化回报：$G \\leftarrow 0$\n",
    "      3. 初始化首次出现的步骤数$f(s,a) \\leftarrow -1$\n",
    "      4. 统计首次出现的步骤数：对于$t \\leftarrow 0,1,\\dots,T-1$，执行以下步骤：若$f(S_t,A_t) <0$，则$f(S_t,A_t) \\leftarrow t$\n",
    "      5. 逐步更新：对$t \\leftarrow T-1,T-2,\\dots,0$，执行以下步骤：\n",
    "         1. 更新回报：$G \\leftarrow \\gamma G + R_{t+1}$\n",
    "         2. 首次出现时则更新：若$f(S_t,A_t)=t$，则更新$q(S_t,A_t)$以减小$[G-q(S_t,A_t)]^2$（如$c(S_t,A_t) \\leftarrow c(S_t,A_t)+1$，$q(S_t,A_t) \\leftarrow q(S_t,A_t) + \\frac{1}{c(S_t,A_t)}[G-q(S_t,A_t)]$）\n",
    "\n",
    "2. **更新评估策略的状态价值**：\n",
    "\n",
    "   【输入】环境（无数学描述），策略$\\pi$\n",
    "\n",
    "   【输出】动作价值函数$v(s),s \\in S$\n",
    "\n",
    "   1. 初始化：$v(s) \\leftarrow$ 任意值，若需计数器则$c(s) \\leftarrow 0$\n",
    "   2. 回合更新：对于每个回合执行以下操作：\n",
    "      1. 采样：用策略$\\pi$生成轨迹$S_0,A_0,R_1,S_1,\\dots,S_{T-1},A_{T-1},R_T,S_T$\n",
    "      2. 初始化回报：$G \\leftarrow 0$\n",
    "      3. 初始化首次出现的步骤数$f(s) \\leftarrow -1$\n",
    "      4. 统计首次出现的步骤数：对于$t \\leftarrow 0,1,\\dots,T-1$，执行以下步骤：若$f(S_t) <0$，则$f(S_t) \\leftarrow t$\n",
    "      5. 逐步更新：对$t \\leftarrow T-1,T-2,\\dots, 0$，执行以下步骤：\n",
    "         1. 更新回报：$G \\leftarrow \\gamma G + R_{t+1}$\n",
    "         2. 首次出现时则更新：若$f(S_t)=t$，则更新$q(S_t,A_t)$以减小$[G-v(S_t)]^2$（如$c(S_t) \\leftarrow c(S_t)+1$，$v(S_t) \\leftarrow v(S_t) + \\frac{1}{c(S_t)}[G-v(S_t)]$）\n",
    "\n",
    "【**补充**】\n",
    "\n",
    "1. 采用逆序法进行更新，此时可以利用$G_t = R_{t+1} + \\gamma G_t$进行更新，可减小计算量\n",
    "\n",
    "2. 在更新动作价值时，可以采用增量法来实现Monte Carlo方法。\n",
    "\n",
    "   **增量法原理**：$\\bar{g}_c = \\bar{g}_{c-1} +\\frac{1}{c}(g_c - \\bar{g}_{c-1})$\n",
    "\n",
    "   <u>从Robbins-Monro算法的角度理解</u>：如果要通过某个有界的随机变量$G$的许多观测$g_1,g_2,\\dots$来估计它的均值$q = E[G]$，可以采用迭代式：$q_k \\leftarrow q_{k-1} + \\alpha_k (g_k - q_{k-1})$。其中$q_0$为任意指定的迭代初始值，$\\alpha_k$为学习率。\n",
    "\n",
    "   * 若学习率序列$\\alpha_k$满足如下三个条件：\n",
    "\n",
    "     1. $\\alpha_k \\ge 0, k = 1,2,3,\\dots$\n",
    "     2. 不受起点限制而可以达到任意收敛单的条件：$\\sum \\alpha_k = +\\infty$\n",
    "     3. 不受噪声限制而最终可以收敛的条件：$\\sum \\alpha_k^2 < +\\infty$\n",
    "\n",
    "     则有$q_k \\to q, k \\to +\\infty$\n",
    "\n",
    "   增量法即为取$\\alpha_k = 1/k$，可保证算法收敛\n",
    "\n",
    "   强化学习与其他学习算法的基础相似，其学习理论的核心在于Robbins-Monro算法的根基**随机近似**理论\n",
    "\n",
    "3. 不是所有的减小$[G-q(S_t,A_t)]^2$的方法都可使用，需要满足Robbins-Monro算法的收敛条件\n",
    "\n",
    "4. 可以利用求出的动作价值直接求状态价值"
   ],
   "metadata": {}
  },
  {
   "cell_type": "markdown",
   "source": [
    "### 带起始探索的同策回合更新\n",
    "\n",
    "【**基本思想**】在更新价值估计后，进行策略改进，就可以得到新的策略，不断更新就有希望找到最优策略\n",
    "\n",
    "【**问题**】如果只是简单将回合更新策略评估算法移植为同策回合更新评估算法，时常会困于局部最优而无法找到全局最优。同策算法可能会从一个并不好的策略出发，只经过那些很差的状态，然后只为这些很差的状态更新价值。\n",
    "\n",
    "【**起始探索**】让所有可能的状态动作对都可能成为回合起点，防止遗漏任何动作状态对\n",
    "\n",
    "* 目前不清楚带起始探索的同策回合更新是否总能收敛到最优策略\n",
    "\n",
    "#### 带起始探索的每次访问同策回合更新算法\n",
    "\n",
    "1. 初始化：$q(s,a) \\leftarrow any$，$c(s,a \\leftarrow 0$，$\\pi(s) \\leftarrow any$\n",
    "2. 回合更新：对每个回合执行以下动作：\n",
    "   1. 起始探索：选择$S_0 \\in S,A_0 \\in A$，使得所有可能的状态动作对都可能成为回合起点，即被选为$(S_0,A_0)$\n",
    "   2. 采样：用策略$\\pi$生成轨迹$S_0,A_0,R_1,S_1,\\dots,S_{T-1},A_{T-1},R_T,S_T$\n",
    "   3. 初始化回报：$G \\leftarrow 0$\n",
    "   4. 逐步更新：对$t \\leftarrow T-1,T-2,\\dots, 0$，执行以下步骤：\n",
    "      1. 更新回报：$G \\leftarrow \\gamma G + R_{t+1}$\n",
    "      2. 更新动作价值：更新$q(S_t,A_t)$以减小$[G-v(S_t)]^2$（如$c(S_t) \\leftarrow c(S_t)+1$，$v(S_t) \\leftarrow v(S_t) + \\frac{1}{c(S_t)}[G-v(S_t)]$）\n",
    "      3. 策略改进：$\\pi(S_t) \\leftarrow \\mathop{\\arg\\max}_a q(S_t,a)$（若有多个$a$满足条件则任选一个）\n",
    "\n",
    "【**限制**】必须能够指定任意状态为回合的起始状态\n",
    "\n"
   ],
   "metadata": {}
  },
  {
   "cell_type": "markdown",
   "source": [
    "### 基于柔性策略的同策回合更新\n",
    "\n",
    "【**柔性策略**】对于某个策略$\\pi$，如果它对任意的$s \\in S， a \\in A$均有$\\pi(a|s) >0$，则称此策略为柔性策略。\n",
    "\n",
    "* 柔性策略可选择所有可能的动作，所以从一个状态出发可以达到此状态能达到的所有状态和所有状态动作对。\n",
    "* 若$S,A$均有限，则存在$\\varepsilon > 0$使得$\\pi(a|s) > \\varepsilon / |A(s)|$。\n",
    "* 对于任意策略$\\pi$和正数$\\varepsilon$，若对任意$s \\in S, a \\in A(s)$，均有$\\pi(a|s) > \\varepsilon / |A(s)|$，则称策略$\\pi$是$\\varepsilon$柔性策略\n",
    "\n",
    "\n",
    "【**$\\varepsilon$贪心策略**】对于给定环境上的某个确定性策略，在所有的$\\varepsilon$柔性策略中有一个策略最接近这个确定性策略，称为$\\varepsilon$贪心策略\n",
    "$$\n",
    "\\pi(a|s) = \\begin{cases}\n",
    "  1, a = a^*\\\\\n",
    "  0, a \\ne a^*\n",
    "  \\end{cases}(确定性策略)\n",
    "  \\Rightarrow\n",
    "  \\pi(a|s) = \\begin{cases}\n",
    "  1 - \\varepsilon + \\frac{\\varepsilon}{|A(s)|}, a = a^*\\\\\n",
    "  \\frac{\\varepsilon}{|A(s)|}, a \\ne a^*\n",
    "  \\end{cases}(\\varepsilon贪心策略)\n",
    "$$\n",
    "\n",
    "* 把$\\varepsilon$平均分配到各动作上，剩下的$1-\\varepsilon$分给$a^*$。要点在于在策略提升环节用$\\varepsilon$贪心策略的表达式来更新策略\n",
    "* 用$\\varepsilon$贪心策略的表达式更新策略仍然满足<u>策略改进定理</u>\n",
    "\n",
    "#### 基于柔性策略的每次访问同策回合更新算法\n",
    "\n",
    "1. 初始化：$q(s,a) \\leftarrow any$，$c(s,a \\leftarrow 0$，$\\pi(·|·) \\leftarrow$任意柔性策略\n",
    "2. 回合更新：对每个回合执行以下动作：\n",
    "   1. 采样：用策略$\\pi$生成轨迹$S_0,A_0,R_1,S_1,\\dots,S_{T-1},A_{T-1},R_T,S_T$\n",
    "   2. 初始化回报：$G \\leftarrow 0$\n",
    "   3. 逐步更新：对$t \\leftarrow T-1,T-2,\\dots, 0$，执行以下步骤：\n",
    "      1. 更新回报：$G \\leftarrow \\gamma G + R_{t+1}$\n",
    "      2. 更新计数和动作价值：更新$q(S_t,A_t)$以减小$[G-v(S_t)]^2$（如$c(S_t) \\leftarrow c(S_t)+1$，$v(S_t) \\leftarrow v(S_t) + \\frac{1}{c(S_t)}[G-v(S_t)]$）\n",
    "      3. 策略改进：$A^* = \\mathop{\\arg\\max}_a q(S_t,a)$，更新策略$\\pi(·|S_t)$为确定性策略$\\pi(a|S_t) = 0, a \\ne A^*$对应的柔性策略（如$\\pi(a|S_t) \\leftarrow \\frac{\\varepsilon}{|A(s)|},\\pi(A^*|S_t) \\leftarrow \\pi(A^*|S_t) + (1-\\varepsilon)$）\n",
    "\n",
    "【补充】\n",
    "\n",
    "* 算法一开始除初始化计数值和动作价值函数外，还要将策略$\\pi$初始化为$\\varepsilon$柔性策略。只有一开始初始化为$\\varepsilon$柔性策略，在后续更新后才是$\\varepsilon$柔性策略\n",
    "\n",
    "* 由于策略$\\pi$理论上可以覆盖所有可达状态和动作对，因此可以求得全局最优策略\n",
    "\n",
    "* 策略改进不一定要在每步更新价值函数后就立刻进行。当回合数较长，但是状态较少时，可以在价值函数完全更新完毕后统一进行。\n",
    "\n",
    "* 可不显式维护策略，而是在决定动作时用动作价值函数隐含的$\\varepsilon$柔性策略来决定动作。\n",
    "\n",
    "  > 在状态$S_t$下通过动作价值$q(S_t,·)$来产生$\\varepsilon$贪心策略决定动作$A_t$，可以先在$[0,1]$内均匀抽取随机数$X$，若$X < \\varepsilon$则进行探索，从$A(s)$中等概率选取一个动作作为$A_t$，否则选择最优动作$\\mathop{\\arg\\max}_aq(S_t,a)$为动作$A_t$。"
   ],
   "metadata": {}
  },
  {
   "cell_type": "markdown",
   "source": [
    "## 异策回合更新\n",
    "\n",
    "【**异策算法**】允许生成轨迹的策略和正在评估或被优化的策略不是同一策略\n",
    "\n",
    "### 重要性采样\n",
    "\n",
    "【**重要性采样**】是一种用一个分布生成的样本来估计另一个分布统计量的方法\n",
    "\n",
    "* 目标策略：要学习的策略$\\pi$；行为策略：用与生成行为的另一策略$b$\n",
    "\n",
    "* 重要性采样比率：考虑从$t$开始的轨迹$S_t,A_t,R_{t+1},S_{t+1},\\dots,S_{T-1},A_{T-1},S_T,A_T$\n",
    "\n",
    "  1. 给定状态$S_t$：\n",
    "     $$\n",
    "     \\rho_{t:T-1} = \\frac{\\Pr_\\pi[A_t,R_{t+1},S_{t+1},\\dots,S_{T-1},A_{T-1},S_T,A_T | S_t]}{\\Pr_b[A_t,R_{t+1},S_{t+1},\\dots,S_{T-1},A_{T-1},S_T,A_T | S_t]} = \\prod_{\\tau = t}^{T-1} \\frac{\\pi(A_\\tau | S_\\tau)}{b(A_\\tau | S_\\tau)}\n",
    "     $$\n",
    "     需要使得任何满足$\\pi(a|s) >0$的$s \\in S, a\\in A$，均有$b(a|s) > 0$，即$\\pi \\ll b$\n",
    "\n",
    "  2. 给定状态动作对$(S_t,A_t)$：\n",
    "     $$\n",
    "     \\rho_{t+1:T-1} = \\frac{\\Pr_\\pi[R_{t+1},S_{t+1},\\dots,S_{T-1},A_{T-1},S_T,A_T | S_t,A_t]}{\\Pr_b[R_{t+1},S_{t+1},\\dots,S_{T-1},A_{T-1},S_T,A_T | S_t,A_t]} = \\prod_{\\tau = t+1}^{T-1} \\frac{\\pi(A_\\tau | S_\\tau)}{b(A_\\tau | S_\\tau)}\n",
    "     $$\n",
    "\n",
    "* 加权重要性采样：$\\sum_{i=1}^c \\rho_i g_i / \\sum_{i=1}^c \\rho_i$；普通重要性采样$\\frac{1}{c} \\sum_{i=1}^c \\rho_i g_i$\n",
    "\n",
    "  > 异策更新得到的$c$个回报对于行为策略$b$是等概率出现的，对于目标策略$\\pi$而言，则对应概率为各轨迹的重要性采样比率\n",
    "\n",
    "  二者区别：对于加权重要性采样，若某个$\\rho$为0，则对应回报不会参与平均，不影响整体均值；但是对于普通重要性采样则会影响均值。\n",
    "\n",
    "* 增量法更新加权平均值：\n",
    "\n",
    "  1. 加权重要性采样：$c \\leftarrow c+\\rho,v \\leftarrow v + \\frac{\\rho}{c}(g - v)$\n",
    "  2. 普通重要性采样：$c \\leftarrow c+1,v \\leftarrow v + \\frac{1}{c}(\\rho g-v)$\n"
   ],
   "metadata": {}
  },
  {
   "cell_type": "markdown",
   "source": [
    "### 异策回合更新策略评估\n",
    "\n",
    "1. 初始化：$v(s,a) \\leftarrow$ 任意值，若需计数器则$c(s,a) \\leftarrow 0$\n",
    "2. 回合更新：对每个回合执行以下动作：\n",
    "   1. 行为策略：指定行为策略$b$，使得$\\pi \\ll b$\n",
    "   2. 采样：用策略$\\pi$生成轨迹$S_0,A_0,R_1,S_1,\\dots,S_{T-1},A_{T-1},R_T,S_T$\n",
    "   3. 初始化回报和权重：$G \\leftarrow 0, \\rho \\leftarrow 1$\n",
    "   4. 对$t \\leftarrow T-1,T-2,\\dots, 0$，执行以下步骤：\n",
    "      1. 更新回报：$G \\leftarrow \\gamma G + R_{t+1}$\n",
    "      2. 更新价值：更新$q(S_t,A_t)$以减小$\\rho[G-q(S_t,A_t)]^2$（$c \\leftarrow c+\\rho,v \\leftarrow v + \\frac{\\rho}{c}(g - v)$）\n",
    "      3. 更新权重：$\\rho \\leftarrow \\rho\\frac{\\pi(A_t|S_t)}{b(A_t|S_t)}$\n",
    "      4. 提前终止：若$\\rho = 0$，则结束循环。\n",
    "\n",
    "【补充】\n",
    "\n",
    "1. 行为策略可以每个回合都单独设计，也可以为整个算法设计一个行为策略\n",
    "2. 一开始权重为1，后续越来越小。若某次权重为0，则以后权重均为0，由此设立检查机制，当权重为0时则退出循环。这也保证了在更新$q(s,a)$时权重和$c(s,a) >0$，避免除0错误"
   ],
   "metadata": {}
  },
  {
   "cell_type": "markdown",
   "source": [
    "### 异策回合更新最优策略求解\n",
    "\n",
    "1. 初始化：$q(s,a) \\leftarrow$ 任意值，若需计数器则$c(s,a) \\leftarrow 0$，$\\pi(s) \\leftarrow \\mathop{\\arg \\max}_a q(s,a)$\n",
    "\n",
    "2. 回合更新：对每个回合执行以下动作：\n",
    "   1. 柔性策略：指定$b$任意柔性策略\n",
    "   2. 采样：用$b$生成轨迹$S_0,A_0,R_1,S_1,\\dots,S_{T-1},A_{T-1},R_T,S_T$\n",
    "   3. 初始化回报和权重：$G \\leftarrow 0, \\rho \\leftarrow 1$\n",
    "   4. 对$t \\leftarrow T-1,T-2,\\dots, 0$，执行以下步骤：\n",
    "      1. 更新回报：$G \\leftarrow \\gamma G + R_{t+1}$\n",
    "      2. 更新价值：更新$q(S_t,A_t)$以减小$\\rho[G-q(S_t,A_t)]^2$（$c \\leftarrow c+\\rho,q \\leftarrow q + \\frac{\\rho}{c}(g - q)$）\n",
    "      3. 策略更新：$\\pi(S_t) \\leftarrow \\mathop{\\arg \\max}_a q(S_t,a)$\n",
    "      4. 提前终止：若$A_t \\ne \\pi(S_t)$则退出循环\n",
    "      5. 更新权重：$\\rho \\leftarrow \\rho \\frac{1}{b(A_t|S_t)}$\n",
    "\n",
    "【补充】\n",
    "\n",
    "1. 始终让$\\pi$是确定性策略，在回合更新的过程中任选策略$b$均满足$\\pi \\ll b$\n",
    "2. 由于采取确定性策略，对于每个状态$s \\in S$均有$a$使得$\\pi(a|s) = 1$而其他$\\pi(\\cdot|s) = 0$。可利用此性质判断权重是否为0\n",
    "   * 若$A_t \\ne \\pi(S_t)$则$\\pi(A_t|S_t) = 0$，更新后权重为0，需退出循环避免除0错误\n",
    "3. 更新权重语句：由于为确定性策略可简化为$\\rho \\leftarrow \\rho \\frac{1}{b(A_t|S_t)}$"
   ],
   "metadata": {}
  },
  {
   "cell_type": "markdown",
   "source": [
    "## 案例：21点游戏（Blackjack-v0）\n",
    "环境使用"
   ],
   "metadata": {}
  },
  {
   "cell_type": "code",
   "execution_count": 3,
   "source": [
    "%matplotlib inline\n",
    "import numpy as np\n",
    "np.random.seed(0)\n",
    "import matplotlib.pyplot as plt\n",
    "import gym"
   ],
   "outputs": [],
   "metadata": {}
  },
  {
   "cell_type": "code",
   "execution_count": 4,
   "source": [
    "env = gym.make(\"Blackjack-v0\")\n",
    "print(\"观测空间 = {}\".format(env.observation_space))\n",
    "print(\"动作空间 = {}\".format(env.action_space))\n",
    "print(\"动作数量 = {}\".format(env.action_space.n))"
   ],
   "outputs": [
    {
     "output_type": "stream",
     "name": "stdout",
     "text": [
      "观测空间 = Tuple(Discrete(32), Discrete(11), Discrete(2))\n",
      "动作空间 = Discrete(2)\n",
      "动作数量 = 2\n"
     ]
    }
   ],
   "metadata": {}
  },
  {
   "cell_type": "markdown",
   "source": [
    "随机策略测试"
   ],
   "metadata": {}
  },
  {
   "cell_type": "code",
   "execution_count": 5,
   "source": [
    "def play_once(env,render=False):\n",
    "    total_reward = 0\n",
    "    observation = env.reset()\n",
    "    print(\"初始观测 = {}\".format(observation))\n",
    "    while True:\n",
    "        print(\"-------------------------------------\")\n",
    "        if render:\n",
    "            env.render()\n",
    "        print(\"玩家 = {}，庄家 = {}\".format(env.player, env.dealer))\n",
    "        action = np.random.choice(env.action_space.n)\n",
    "        print(\"动作 = {}\".format(action))\n",
    "        observation,reward,done,_ = env.step(action)\n",
    "        print(\"观测 = {}，奖励 = {}，结束指示 = {}\".format(observation,reward,done))\n",
    "        total_reward += reward\n",
    "        if done:\n",
    "            return total_reward\n",
    "\n",
    "total = play_once(env)"
   ],
   "outputs": [
    {
     "output_type": "stream",
     "name": "stdout",
     "text": [
      "初始观测 = (17, 6, False)\n",
      "-------------------------------------\n",
      "玩家 = [10, 7]，庄家 = [6, 8]\n",
      "动作 = 0\n",
      "观测 = (17, 6, False)，奖励 = 1.0，结束指示 = True\n"
     ]
    }
   ],
   "metadata": {}
  },
  {
   "cell_type": "markdown",
   "source": [
    "### 同策策略评估"
   ],
   "metadata": {}
  },
  {
   "cell_type": "code",
   "execution_count": 6,
   "source": [
    "def ob2state(observation):\n",
    "    return observation[0], observation[1], int(observation[2])\n",
    "\n",
    "def evaluate_action_monte_carlo(env, policy, episode_num = 5000):\n",
    "    q = np.zeros_like(policy)\n",
    "    c = np.zeros_like(policy)\n",
    "    for _ in range(episode_num):\n",
    "        state_actions = []\n",
    "        observation = env.reset()\n",
    "        #运行一次\n",
    "        while True:\n",
    "            state = ob2state(observation)\n",
    "            action = np.random.choice(env.action_space.n, p = policy[state])\n",
    "            state_actions.append((state,action))\n",
    "            observation, reward, done, _ = env.step(action)\n",
    "            if done:\n",
    "                break\n",
    "\n",
    "        g = reward\n",
    "        for state, action in state_actions:\n",
    "            c[state][action] += 1\n",
    "            q[state][action] += (g - q[state][action]) / c[state][action]\n",
    "    return q"
   ],
   "outputs": [],
   "metadata": {}
  },
  {
   "cell_type": "markdown",
   "source": [
    "策略：总点数大于等于20时不要牌，小于等于20时要牌"
   ],
   "metadata": {}
  },
  {
   "cell_type": "code",
   "execution_count": 7,
   "source": [
    "policy = np.zeros((22, 11, 2, 2))\n",
    "policy[20:, :, :, 0] = 1 # >= 20 时收手\n",
    "policy[:20, :, :, 1] = 1 # < 20 时继续\n",
    "# print(policy)\n",
    "q = evaluate_action_monte_carlo(env, policy) # 动作价值\n",
    "v = (q * policy).sum(axis=-1) # 状态价值"
   ],
   "outputs": [],
   "metadata": {}
  },
  {
   "cell_type": "code",
   "execution_count": 8,
   "source": [
    "def plot(data):\n",
    "    fig, axes = plt.subplots(1, 2, figsize=(9, 4))\n",
    "    titles = ['without ace', 'with ace']\n",
    "    have_aces = [0, 1]\n",
    "    extent = [12, 22, 1, 11]\n",
    "    for title, have_ace, axis in zip(titles, have_aces, axes):\n",
    "        dat = data[extent[0]:extent[1], extent[2]:extent[3], have_ace].T\n",
    "        axis.imshow(dat, extent=extent, origin='lower')\n",
    "        axis.set_xlabel('player sum')\n",
    "        axis.set_ylabel('dealer showing')\n",
    "        axis.set_title(title)"
   ],
   "outputs": [],
   "metadata": {}
  },
  {
   "cell_type": "code",
   "execution_count": 9,
   "source": [
    "plot(v)"
   ],
   "outputs": [
    {
     "output_type": "display_data",
     "data": {
      "text/plain": [
       "<Figure size 648x288 with 2 Axes>"
      ],
      "image/png": "[encoded data removed]"
     },
     "metadata": {
      "needs_background": "light"
     }
    }
   ],
   "metadata": {}
  },
  {
   "cell_type": "markdown",
   "source": [
    "带起始探索的同策回合更新算法"
   ],
   "metadata": {}
  },
  {
   "cell_type": "code",
   "execution_count": 10,
   "source": [
    "def monte_carlo_with_exploring_start(env, episode_num=50000):\n",
    "    policy = np.zeros((22,11,2,2))\n",
    "    policy[:, :, :,1] = 1\n",
    "    q = np.zeros_like(policy)\n",
    "    c = np.zeros_like(policy)\n",
    "    for _  in range(episode_num):\n",
    "        state = (np.random.randint(12,22),\n",
    "                 np.random.randint(1,11),\n",
    "                 np.random.randint(2))\n",
    "        action = np.random.randint(2)\n",
    "\n",
    "        if state[2]:\n",
    "            env.player = [1, state[0] - 11]\n",
    "        else:\n",
    "            if state[0] == 21:\n",
    "                env.player = [10, 9, 2]\n",
    "            else:\n",
    "                env.player = [10, state[0] - 10]\n",
    "        env.dealer[0] = state[1]\n",
    "\n",
    "        state_actions = []\n",
    "        env.reset()\n",
    "        while True:\n",
    "            state_actions.append((state,action))\n",
    "            observation, reward, done, _ = env.step(action)\n",
    "            if done:\n",
    "                break\n",
    "            state = ob2state(observation)\n",
    "            action = np.random.choice(env.action_space.n, p = policy[state])\n",
    "        \n",
    "        g = reward # 回报\n",
    "        for state, action in state_actions:\n",
    "            c[state][action] += 1.\n",
    "            q[state][action] += (g - q[state][action]) / c[state][action]\n",
    "            a = q[state].argmax()\n",
    "            policy[state] = 0.\n",
    "            policy[state][a] = 1.\n",
    "    return policy, q"
   ],
   "outputs": [],
   "metadata": {}
  },
  {
   "cell_type": "code",
   "execution_count": 11,
   "source": [
    "policy, q = monte_carlo_with_exploring_start(env)\n",
    "v = q.max(axis=-1)\n",
    "plot(policy.argmax(-1))\n",
    "plot(v)"
   ],
   "outputs": [
    {
     "output_type": "display_data",
     "data": {
      "text/plain": [
       "<Figure size 648x288 with 2 Axes>"
      ],
      "image/png": "[encoded data removed]"
     },
     "metadata": {
      "needs_background": "light"
     }
    },
    {
     "output_type": "display_data",
     "data": {
      "text/plain": [
       "<Figure size 648x288 with 2 Axes>"
      ],
      "image/png": "[encoded data removed]"
     },
     "metadata": {
      "needs_background": "light"
     }
    }
   ],
   "metadata": {}
  },
  {
   "cell_type": "markdown",
   "source": [
    "基于柔性策略的同策回合更新"
   ],
   "metadata": {}
  },
  {
   "cell_type": "code",
   "execution_count": 12,
   "source": [
    "def monte_carlo_with_soft(env, episode_num=5000, epsilon=0.1):\n",
    "    policy = np.ones((22, 11, 2, 2)) * 0.5 # 柔性策略\n",
    "    q = np.zeros_like(policy)\n",
    "    c = np.zeros_like(policy)\n",
    "    for _ in range(episode_num):\n",
    "        state_actions = []\n",
    "        observation = env.reset()\n",
    "        while True:\n",
    "            state = ob2state(observation)\n",
    "            action = np.random.choice(env.action_space.n, p = policy[state])\n",
    "            state_actions.append((state, action))\n",
    "            observation, reward, done, _ = env.step(action)\n",
    "            if done:\n",
    "                break\n",
    "        g = reward\n",
    "        for state, action in state_actions:\n",
    "            c[state][action] += 1.\n",
    "            q[state][action] += (g - q[state][action]) / c[state][action]\n",
    "            a = q[state].argmax()\n",
    "            policy[state] = epsilon / env.action_space.n\n",
    "            policy[state][a] += 1. - epsilon\n",
    "    return policy, q"
   ],
   "outputs": [],
   "metadata": {}
  },
  {
   "cell_type": "code",
   "execution_count": 13,
   "source": [
    "policy, q = monte_carlo_with_soft(env)\n",
    "v = q.max(axis=-1)\n",
    "\n",
    "plot(policy.argmax(-1))\n",
    "plot(v)"
   ],
   "outputs": [
    {
     "output_type": "display_data",
     "data": {
      "text/plain": [
       "<Figure size 648x288 with 2 Axes>"
      ],
      "image/png": "[encoded data removed]"
     },
     "metadata": {
      "needs_background": "light"
     }
    },
    {
     "output_type": "display_data",
     "data": {
      "text/plain": [
       "<Figure size 648x288 with 2 Axes>"
      ],
      "image/png": "[encoded data removed]"
     },
     "metadata": {
      "needs_background": "light"
     }
    }
   ],
   "metadata": {}
  },
  {
   "cell_type": "code",
   "execution_count": 14,
   "source": [
    "def evaluate_monte_carlo_importance_sample(env, policy, behavior_policy, episode_num=500000):\n",
    "    q = np.zeros_like(policy)\n",
    "    c = np.zeros_like(policy)\n",
    "    for _ in range(episode_num):\n",
    "        state_actions = []\n",
    "        observation = env.reset()\n",
    "        while True:\n",
    "            state = ob2state(observation)\n",
    "            action = np.random.choice(env.action_space.n, p = behavior_policy[state])\n",
    "            state_actions.append((state, action))\n",
    "            observation, reward, done, _ = env.step(action)\n",
    "            if done:\n",
    "                break\n",
    "        g = reward\n",
    "        rho = 1\n",
    "        for state, action in reversed(state_actions):\n",
    "            c[state][action] += rho\n",
    "            q[state][action] += (rho / c[state][action] * (g - q[state][action]))\n",
    "            rho *= policy[state][action] / behavior_policy[state][action]\n",
    "            if rho == 0:\n",
    "                break\n",
    "    return q    "
   ],
   "outputs": [],
   "metadata": {}
  },
  {
   "cell_type": "code",
   "execution_count": 17,
   "source": [
    "policy = np.zeros((22, 11, 2, 2))\n",
    "policy[20:, :, :, 0] = 1 # >= 20 时收手\n",
    "policy[:20, :, :, 1] = 1 # < 20 时继续\n",
    "behavior_policy = np.ones_like(policy) * 0.5\n",
    "q = evaluate_monte_carlo_importance_sample(env, policy, behavior_policy,5000)\n",
    "v = (q * policy).sum(axis=-1)\n",
    "plot(v)"
   ],
   "outputs": [
    {
     "output_type": "display_data",
     "data": {
      "text/plain": [
       "<Figure size 648x288 with 2 Axes>"
      ],
      "image/png": "[encoded data removed]"
     },
     "metadata": {
      "needs_background": "light"
     }
    }
   ],
   "metadata": {}
  },
  {
   "cell_type": "code",
   "execution_count": 38,
   "source": [
    "def monte_carlo_importance_sample(env, episode_num=500000):\n",
    "    policy = np.zeros((22, 11, 2, 2))\n",
    "    policy[:, :, :, 0] = 1.\n",
    "    behavior_policy = np.ones_like(policy) * 0.5 # 柔性策略\n",
    "    q = np.zeros_like(policy)\n",
    "    c = np.zeros_like(policy)\n",
    "    for _ in range(episode_num):\n",
    "        state_actions = []\n",
    "        observation = env.reset()\n",
    "        while True:\n",
    "            state = ob2state(observation)\n",
    "            action = np.random.choice(env.action_space.n,p = behavior_policy[state])\n",
    "            state_actions.append((state, action))\n",
    "            observation, reward, done, _ = env.step(action)\n",
    "            if done:\n",
    "                break\n",
    "        g = reward # 回报\n",
    "        rho = 1. # 重要性采样比率\n",
    "        for state, action in reversed(state_actions):\n",
    "            c[state][action] += rho\n",
    "            q[state][action] += (rho / c[state][action] * (g - q[state][action]))\n",
    "            a = q[state].argmax()\n",
    "            policy[state] = 0\n",
    "            policy[state][a] = 1\n",
    "            if a != action:\n",
    "                break\n",
    "            rho /= behavior_policy[state][action]\n",
    "    return policy, q"
   ],
   "outputs": [],
   "metadata": {}
  },
  {
   "cell_type": "code",
   "execution_count": 39,
   "source": [
    "policy, q = monte_carlo_importance_sample(env)\n",
    "v = q.max(axis=-1)\n",
    "\n",
    "plot(policy.argmax(-1))\n",
    "plot(v)"
   ],
   "outputs": [
    {
     "output_type": "display_data",
     "data": {
      "text/plain": [
       "<Figure size 648x288 with 2 Axes>"
      ],
      "image/png": "[encoded data removed]"
     },
     "metadata": {
      "needs_background": "light"
     }
    },
    {
     "output_type": "display_data",
     "data": {
      "text/plain": [
       "<Figure size 648x288 with 2 Axes>"
      ],
      "image/png": "[encoded data removed]"
     },
     "metadata": {
      "needs_background": "light"
     }
    }
   ],
   "metadata": {}
  }
 ],
 "metadata": {
  "orig_nbformat": 4,
  "language_info": {
   "name": "python",
   "version": "3.8.5",
   "mimetype": "text/x-python",
   "codemirror_mode": {
    "name": "ipython",
    "version": 3
   },
   "pygments_lexer": "ipython3",
   "nbconvert_exporter": "python",
   "file_extension": ".py"
  },
  "kernelspec": {
   "name": "python3",
   "display_name": "Python 3.8.5 64-bit ('base': conda)"
  },
  "interpreter": {
   "hash": "93c7a1db5c1322b8b6274c3b96356447c8439c5cf076706fd9e6a4d40c4a51a4"
  }
 },
 "nbformat": 4,
 "nbformat_minor": 2
}